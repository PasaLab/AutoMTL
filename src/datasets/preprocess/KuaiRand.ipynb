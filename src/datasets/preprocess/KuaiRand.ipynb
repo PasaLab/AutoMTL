{
 "cells": [
  {
   "cell_type": "code",
   "execution_count": null,
   "metadata": {},
   "outputs": [],
   "source": [
    "import pandas as pd"
   ]
  },
  {
   "cell_type": "code",
   "execution_count": null,
   "metadata": {},
   "outputs": [],
   "source": [
    "file_path = \"./KuaiRand-Pure/data/log_random_4_22_to_5_08_pure.csv\"\n",
    "\n",
    "file_user = \"./KuaiRand-Pure/data/user_features_pure.csv\"\n",
    "file_video = \"./KuaiRand-Pure/data/video_features_basic_pure.csv\""
   ]
  },
  {
   "cell_type": "code",
   "execution_count": null,
   "metadata": {},
   "outputs": [],
   "source": [
    "data_df = pd.read_csv(file_path)\n",
    "df_user = pd.read_csv(file_user)\n",
    "df_video = pd.read_csv(file_video)"
   ]
  },
  {
   "cell_type": "code",
   "execution_count": null,
   "metadata": {},
   "outputs": [],
   "source": [
    "data_df = pd.merge(data_df, df_user, how=\"left\", on=[\"user_id\"])\n",
    "data_df = pd.merge(data_df, df_video, how=\"left\", on=[\"video_id\"])\n",
    "data_df.dropna(inplace=True)"
   ]
  },
  {
   "cell_type": "code",
   "execution_count": null,
   "metadata": {},
   "outputs": [],
   "source": [
    "data_df"
   ]
  },
  {
   "cell_type": "code",
   "execution_count": null,
   "metadata": {},
   "outputs": [],
   "source": [
    "data_df = data_df[\n",
    "    [\n",
    "        \"user_id\", # need encode\n",
    "        \"video_id\", # need encode\n",
    "        \"is_click\", # label\n",
    "        \"is_like\",  # label\n",
    "        \"is_follow\", # label\n",
    "        \"is_comment\", # label\n",
    "        \"is_forward\", # label\n",
    "        \"is_hate\", # label\n",
    "        \"long_view\", # label\n",
    "        \"is_rand\",\n",
    "        \"tab\",\n",
    "        \"user_active_degree\",  # need encode\n",
    "        \"is_lowactive_period\",\n",
    "        \"is_live_streamer\",\n",
    "        \"is_video_author\",\n",
    "        \"follow_user_num_range\", # need encode\n",
    "        \"fans_user_num_range\", # need encode\n",
    "        \"friend_user_num_range\", # need encode\n",
    "        \"register_days_range\", # need encode\n",
    "        \"onehot_feat0\",\n",
    "        \"onehot_feat1\",\n",
    "        \"onehot_feat2\",\n",
    "        \"onehot_feat3\",\n",
    "        \"onehot_feat4\",\n",
    "        \"onehot_feat5\",\n",
    "        \"onehot_feat6\",\n",
    "        \"onehot_feat7\",\n",
    "        \"onehot_feat8\",\n",
    "        \"onehot_feat9\",\n",
    "        \"onehot_feat10\",\n",
    "        \"onehot_feat11\",\n",
    "        \"onehot_feat12\",\n",
    "        \"onehot_feat13\",\n",
    "        \"onehot_feat14\",\n",
    "        \"onehot_feat15\",\n",
    "        \"onehot_feat16\",\n",
    "        \"onehot_feat17\",\n",
    "        \"author_id\", # need encode\n",
    "        \"video_type\", # need encode\n",
    "        \"music_id\",  # need encode\n",
    "        \"music_type\", # need encode\n",
    "    ]\n",
    "]"
   ]
  },
  {
   "cell_type": "code",
   "execution_count": null,
   "metadata": {},
   "outputs": [],
   "source": [
    "from sklearn.preprocessing import StandardScaler, LabelEncoder\n",
    "from sklearn.model_selection import train_test_split\n",
    "lbe = LabelEncoder()\n",
    "data_df[\"user_id\"] = lbe.fit_transform(data_df[\"user_id\"]) + 1\n",
    "data_df[\"video_id\"] = lbe.fit_transform(data_df[\"video_id\"]) + 1\n",
    "data_df[\"user_active_degree\"] = lbe.fit_transform(data_df[\"user_active_degree\"]) + 1\n",
    "data_df[\"follow_user_num_range\"] = lbe.fit_transform(data_df[\"follow_user_num_range\"]) + 1\n",
    "data_df[\"fans_user_num_range\"] = lbe.fit_transform(data_df[\"fans_user_num_range\"]) + 1\n",
    "data_df[\"friend_user_num_range\"] = lbe.fit_transform(data_df[\"friend_user_num_range\"]) + 1\n",
    "data_df[\"register_days_range\"] = lbe.fit_transform(data_df[\"register_days_range\"]) + 1\n",
    "data_df[\"author_id\"] = lbe.fit_transform(data_df[\"author_id\"]) + 1\n",
    "data_df[\"video_type\"] = lbe.fit_transform(data_df[\"video_type\"]) + 1\n",
    "data_df[\"music_id\"] = lbe.fit_transform(data_df[\"music_id\"]) + 1\n",
    "data_df[\"music_type\"] = lbe.fit_transform(data_df[\"music_type\"]) + 1"
   ]
  },
  {
   "cell_type": "code",
   "execution_count": null,
   "metadata": {},
   "outputs": [],
   "source": [
    "data_df = data_df.astype(\"int\")"
   ]
  },
  {
   "cell_type": "code",
   "execution_count": null,
   "metadata": {},
   "outputs": [],
   "source": [
    "data_df"
   ]
  },
  {
   "cell_type": "code",
   "execution_count": null,
   "metadata": {},
   "outputs": [],
   "source": [
    "df_train, df_val = train_test_split(data_df, test_size=0.2)\n",
    "df_val, df_test = train_test_split(df_val, test_size=0.5)\n",
    "\n",
    "df_train.to_csv(\"KuaiRand_train.csv\", index=False)\n",
    "df_val.to_csv(\"KuaiRand_val.csv\", index=False)\n",
    "df_test.to_csv(\"KuaiRand_test.csv\", index=False)"
   ]
  }
 ],
 "metadata": {
  "kernelspec": {
   "display_name": "workspace",
   "language": "python",
   "name": "python3"
  },
  "language_info": {
   "codemirror_mode": {
    "name": "ipython",
    "version": 3
   },
   "file_extension": ".py",
   "mimetype": "text/x-python",
   "name": "python",
   "nbconvert_exporter": "python",
   "pygments_lexer": "ipython3",
   "version": "3.8.13"
  }
 },
 "nbformat": 4,
 "nbformat_minor": 2
}
