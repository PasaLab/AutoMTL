{
 "cells": [
  {
   "cell_type": "code",
   "execution_count": null,
   "metadata": {},
   "outputs": [],
   "source": [
    "import pandas as pd"
   ]
  },
  {
   "cell_type": "code",
   "execution_count": null,
   "metadata": {},
   "outputs": [],
   "source": [
    "qb_video_path = \"./Tenrec/QB-video.csv\""
   ]
  },
  {
   "cell_type": "code",
   "execution_count": null,
   "metadata": {},
   "outputs": [],
   "source": [
    "data_df = pd.read_csv(qb_video_path)"
   ]
  },
  {
   "cell_type": "code",
   "execution_count": null,
   "metadata": {},
   "outputs": [],
   "source": [
    "data_df.dropna(inplace=True)"
   ]
  },
  {
   "cell_type": "code",
   "execution_count": null,
   "metadata": {},
   "outputs": [],
   "source": [
    "def filte(df: pd.DataFrame, field_name, target_field='purchase', thresh=5):\n",
    "    items = set()\n",
    "    df = df.groupby(by=field_name, as_index=False)[target_field].agg(sum)\n",
    "    for k, v in df.values:\n",
    "        if v < thresh:\n",
    "            items.add(k)\n",
    "\n",
    "    return items"
   ]
  },
  {
   "cell_type": "code",
   "execution_count": null,
   "metadata": {},
   "outputs": [],
   "source": [
    "data_df"
   ]
  },
  {
   "cell_type": "code",
   "execution_count": null,
   "metadata": {},
   "outputs": [],
   "source": [
    "ban_users = filte(data_df, \"user_id\", target_field=\"click\", thresh=10)\n",
    "ban_items = filte(data_df, \"item_id\", target_field=\"click\", thresh=10)"
   ]
  },
  {
   "cell_type": "code",
   "execution_count": null,
   "metadata": {},
   "outputs": [],
   "source": [
    "drop_user = data_df['user_id'].isin(ban_users)\n",
    "data_df.drop(data_df.index[drop_user], inplace=True)"
   ]
  },
  {
   "cell_type": "code",
   "execution_count": null,
   "metadata": {},
   "outputs": [],
   "source": [
    "drop_item = data_df['item_id'].isin(ban_items)\n",
    "data_df.drop(data_df.index[drop_item], inplace=True)"
   ]
  },
  {
   "cell_type": "code",
   "execution_count": null,
   "metadata": {},
   "outputs": [],
   "source": [
    "from sklearn.preprocessing import StandardScaler, LabelEncoder\n",
    "from sklearn.model_selection import train_test_split\n",
    "lbe = LabelEncoder()\n",
    "data_df[\"user_id\"] = lbe.fit_transform(data_df[\"user_id\"])\n",
    "data_df[\"item_id\"] = lbe.fit_transform(data_df[\"item_id\"]) + 1"
   ]
  },
  {
   "cell_type": "code",
   "execution_count": null,
   "metadata": {},
   "outputs": [],
   "source": [
    "df_train, df_val = train_test_split(data_df, test_size=0.2)\n",
    "df_val, df_test = train_test_split(df_val, test_size=0.5)\n",
    "\n",
    "df_train.to_csv(\"QB_Video_train.csv\", index=False)\n",
    "df_val.to_csv(\"QB_Video_val.csv\", index=False)\n",
    "df_test.to_csv(\"QB_Video_test.csv\", index=False)"
   ]
  }
 ],
 "metadata": {
  "kernelspec": {
   "display_name": "workspace",
   "language": "python",
   "name": "python3"
  },
  "language_info": {
   "codemirror_mode": {
    "name": "ipython",
    "version": 3
   },
   "file_extension": ".py",
   "mimetype": "text/x-python",
   "name": "python",
   "nbconvert_exporter": "python",
   "pygments_lexer": "ipython3",
   "version": "3.8.13"
  }
 },
 "nbformat": 4,
 "nbformat_minor": 2
}
