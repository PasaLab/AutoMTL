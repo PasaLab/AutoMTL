{
 "cells": [
  {
   "cell_type": "code",
   "execution_count": null,
   "metadata": {},
   "outputs": [],
   "source": [
    "import pandas as pd"
   ]
  },
  {
   "cell_type": "code",
   "execution_count": null,
   "metadata": {},
   "outputs": [],
   "source": [
    "data_df = pd.read_csv('UserBehavior.csv', header=None)\n",
    "data_df"
   ]
  },
  {
   "cell_type": "code",
   "execution_count": null,
   "metadata": {},
   "outputs": [],
   "source": [
    "data_df = data_df.groupby(by=[0, 1, 2], as_index=False)[3].agg(list)"
   ]
  },
  {
   "cell_type": "code",
   "execution_count": null,
   "metadata": {},
   "outputs": [],
   "source": [
    "data_df.dropna(inplace=True)\n",
    "data_df['click'] = data_df[3].map(lambda x: int('pv' in x))\n",
    "data_df['buy'] = data_df[3].map(lambda x: int('buy' in x))\n",
    "data_df['cart'] = data_df[3].map(lambda x: int('cart' in x))\n",
    "data_df['favourite'] = data_df[3].map(lambda x: int('fav' in x))"
   ]
  },
  {
   "cell_type": "code",
   "execution_count": null,
   "metadata": {},
   "outputs": [],
   "source": [
    "data_df.drop(3, axis=1, inplace=True)"
   ]
  },
  {
   "cell_type": "code",
   "execution_count": null,
   "metadata": {},
   "outputs": [],
   "source": [
    "def filte(df: pd.DataFrame, field_name, target_field='purchase', thresh=5):\n",
    "    items = set()\n",
    "    df = df.groupby(by=field_name, as_index=False)[target_field].agg(\"sum\")\n",
    "    for k, v in df.values:\n",
    "        if v < thresh:\n",
    "            items.add(k)\n",
    "\n",
    "    return items"
   ]
  },
  {
   "cell_type": "code",
   "execution_count": null,
   "metadata": {},
   "outputs": [],
   "source": [
    "ban_users = filte(data_df, 0, target_field='buy', thresh=10)\n",
    "ban_items = filte(data_df, 1, target_field='buy', thresh=10)"
   ]
  },
  {
   "cell_type": "code",
   "execution_count": null,
   "metadata": {},
   "outputs": [],
   "source": [
    "drop_user = data_df[0].isin(ban_users)\n",
    "data_df.drop(data_df.index[drop_user], inplace=True)"
   ]
  },
  {
   "cell_type": "code",
   "execution_count": null,
   "metadata": {},
   "outputs": [],
   "source": [
    "drop_item = data_df[1].isin(ban_items)\n",
    "data_df.drop(data_df.index[drop_item], inplace=True)"
   ]
  },
  {
   "cell_type": "code",
   "execution_count": null,
   "metadata": {
    "slideshow": {
     "slide_type": "skip"
    }
   },
   "outputs": [],
   "source": [
    "data_df.rename(columns={\n",
    "    0: 'user_id:token',\n",
    "    1: 'item_id:token',\n",
    "    2: 'category:token',\n",
    "    'click': 'click:label',\n",
    "    'buy': 'buy:label',\n",
    "    'cart': 'cart:label',\n",
    "    'favourite': 'favourite:label'\n",
    "}, inplace=True)"
   ]
  },
  {
   "cell_type": "code",
   "execution_count": null,
   "metadata": {},
   "outputs": [],
   "source": [
    "from sklearn.preprocessing import LabelEncoder\n",
    "from sklearn.model_selection import train_test_split"
   ]
  },
  {
   "cell_type": "code",
   "execution_count": null,
   "metadata": {},
   "outputs": [],
   "source": [
    "lbe = LabelEncoder()"
   ]
  },
  {
   "cell_type": "code",
   "execution_count": null,
   "metadata": {},
   "outputs": [],
   "source": [
    "data_df[\"user_id:token\"] = lbe.fit_transform(data_df[\"user_id:token\"]) + 1\n",
    "data_df[\"item_id:token\"] = lbe.fit_transform(data_df[\"item_id:token\"]) + 1\n",
    "data_df[\"category:token\"] = lbe.fit_transform(data_df[\"category:token\"]) + 1"
   ]
  },
  {
   "cell_type": "code",
   "execution_count": null,
   "metadata": {},
   "outputs": [],
   "source": [
    "data_df"
   ]
  },
  {
   "cell_type": "code",
   "execution_count": null,
   "metadata": {},
   "outputs": [],
   "source": [
    "df_train, df_val = train_test_split(data_df, test_size=0.2)"
   ]
  },
  {
   "cell_type": "code",
   "execution_count": null,
   "metadata": {},
   "outputs": [],
   "source": [
    "df_val, df_test = train_test_split(df_val, test_size=0.5)"
   ]
  },
  {
   "cell_type": "code",
   "execution_count": null,
   "metadata": {},
   "outputs": [],
   "source": [
    "df_train.to_csv(\"UserBehavior_train.csv\", index=False)\n",
    "df_val.to_csv(\"UserBehavior_val.csv\", index=False)\n",
    "df_test.to_csv(\"UserBehavior_test.csv\", index=False)"
   ]
  }
 ],
 "metadata": {
  "kernelspec": {
   "display_name": "",
   "language": "python",
   "name": "python3"
  },
  "language_info": {
   "codemirror_mode": {
    "name": "ipython",
    "version": 3
   },
   "file_extension": ".py",
   "mimetype": "text/x-python",
   "name": "python",
   "nbconvert_exporter": "python",
   "pygments_lexer": "ipython3",
   "version": "3.9.7"
  },
  "orig_nbformat": 4,
  "vscode": {
   "interpreter": {
    "hash": "86a32448ebd330314bb69120b23620a3eb2796e96e98594a04d3f7d8f8591086"
   }
  }
 },
 "nbformat": 4,
 "nbformat_minor": 2
}
