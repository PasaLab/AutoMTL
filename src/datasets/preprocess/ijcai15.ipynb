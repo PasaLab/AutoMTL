{
 "cells": [
  {
   "cell_type": "code",
   "metadata": {
    "ExecuteTime": {
     "end_time": "2024-11-22T05:42:34.331104Z",
     "start_time": "2024-11-22T05:42:34.316109Z"
    }
   },
   "source": [
    "import pandas as pd"
   ],
   "outputs": [],
   "execution_count": 15
  },
  {
   "cell_type": "code",
   "metadata": {
    "ExecuteTime": {
     "end_time": "2024-11-22T05:42:34.347103Z",
     "start_time": "2024-11-22T05:42:34.336104Z"
    }
   },
   "source": [
    "log_path = r'D:\\Shilong\\new_murmur\\01_code\\AutoMTL\\data_format1\\user_log_format1.csv'\n",
    "info_path = r'D:\\Shilong\\new_murmur\\01_code\\AutoMTL\\data_format1\\user_info_format1.csv'"
   ],
   "outputs": [],
   "execution_count": 16
  },
  {
   "cell_type": "code",
   "metadata": {
    "ExecuteTime": {
     "end_time": "2024-11-22T05:42:49.848097Z",
     "start_time": "2024-11-22T05:42:34.365104Z"
    }
   },
   "source": [
    "log_df = pd.read_csv(log_path)"
   ],
   "outputs": [],
   "execution_count": 17
  },
  {
   "cell_type": "code",
   "metadata": {
    "ExecuteTime": {
     "end_time": "2024-11-22T05:51:31.559097Z",
     "start_time": "2024-11-22T05:42:49.881097Z"
    }
   },
   "source": [
    "log_df.dropna(inplace=True)\n",
    "log_df['brand_id'] = log_df['brand_id'].astype('int')\n",
    "log_df = log_df.groupby(by=['user_id', 'item_id', 'cat_id', 'seller_id', 'brand_id'], as_index=False)['action_type'].agg(list)"
   ],
   "outputs": [],
   "execution_count": 18
  },
  {
   "cell_type": "code",
   "metadata": {
    "ExecuteTime": {
     "end_time": "2024-11-22T05:51:49.614097Z",
     "start_time": "2024-11-22T05:51:31.576098Z"
    }
   },
   "source": [
    "log_df['purchase'] = log_df['action_type'].map(lambda x: int(2 in x))\n",
    "log_df['favourite'] = log_df['action_type'].map(lambda x: int(3 in x))\n",
    "log_df.drop('action_type', axis=1, inplace=True)"
   ],
   "outputs": [],
   "execution_count": 19
  },
  {
   "cell_type": "code",
   "metadata": {
    "ExecuteTime": {
     "end_time": "2024-11-22T05:51:49.726097Z",
     "start_time": "2024-11-22T05:51:49.631098Z"
    }
   },
   "source": [
    "user_df = pd.read_csv(info_path)\n",
    "user_df.dropna(inplace=True)\n",
    "user_df['age_range'] = user_df['age_range'].astype('int')\n",
    "user_df['gender'] = user_df['gender'].astype('int')"
   ],
   "outputs": [],
   "execution_count": 20
  },
  {
   "cell_type": "code",
   "metadata": {
    "ExecuteTime": {
     "end_time": "2024-11-22T05:51:51.876097Z",
     "start_time": "2024-11-22T05:51:49.743097Z"
    }
   },
   "source": [
    "data_df = pd.merge(log_df, user_df, how='left', on='user_id')"
   ],
   "outputs": [],
   "execution_count": 21
  },
  {
   "cell_type": "code",
   "metadata": {
    "ExecuteTime": {
     "end_time": "2024-11-22T05:51:53.740098Z",
     "start_time": "2024-11-22T05:51:51.893098Z"
    }
   },
   "source": [
    "data_df.dropna(inplace=True)"
   ],
   "outputs": [],
   "execution_count": 22
  },
  {
   "cell_type": "code",
   "metadata": {
    "ExecuteTime": {
     "end_time": "2024-11-22T05:51:53.772097Z",
     "start_time": "2024-11-22T05:51:53.757099Z"
    }
   },
   "source": [
    "data_df"
   ],
   "outputs": [
    {
     "data": {
      "text/plain": [
       "          user_id  item_id  cat_id  seller_id  brand_id  purchase  favourite  \\\n",
       "0               1   112203    1252       4026      1469         1          0   \n",
       "1               1   181459     276       2245      4750         0          0   \n",
       "2               1   411984    1252       4177      1960         0          0   \n",
       "3               1   452339     389       4335       649         0          0   \n",
       "4               1   452837     276       2245      4750         0          0   \n",
       "...           ...      ...     ...        ...       ...       ...        ...   \n",
       "32010134   424170   678194    1397       4963      1991         0          0   \n",
       "32010135   424170   701110     602        525      5444         0          0   \n",
       "32010136   424170   795753     656       4268      1642         1          0   \n",
       "32010137   424170   802762     602       3736      3125         0          0   \n",
       "32010138   424170   907978     656       3469      3307         0          0   \n",
       "\n",
       "          age_range  gender  \n",
       "0               3.0     1.0  \n",
       "1               3.0     1.0  \n",
       "2               3.0     1.0  \n",
       "3               3.0     1.0  \n",
       "4               3.0     1.0  \n",
       "...             ...     ...  \n",
       "32010134        0.0     1.0  \n",
       "32010135        0.0     1.0  \n",
       "32010136        0.0     1.0  \n",
       "32010137        0.0     1.0  \n",
       "32010138        0.0     1.0  \n",
       "\n",
       "[31764883 rows x 9 columns]"
      ],
      "text/html": [
       "<div>\n",
       "<style scoped>\n",
       "    .dataframe tbody tr th:only-of-type {\n",
       "        vertical-align: middle;\n",
       "    }\n",
       "\n",
       "    .dataframe tbody tr th {\n",
       "        vertical-align: top;\n",
       "    }\n",
       "\n",
       "    .dataframe thead th {\n",
       "        text-align: right;\n",
       "    }\n",
       "</style>\n",
       "<table border=\"1\" class=\"dataframe\">\n",
       "  <thead>\n",
       "    <tr style=\"text-align: right;\">\n",
       "      <th></th>\n",
       "      <th>user_id</th>\n",
       "      <th>item_id</th>\n",
       "      <th>cat_id</th>\n",
       "      <th>seller_id</th>\n",
       "      <th>brand_id</th>\n",
       "      <th>purchase</th>\n",
       "      <th>favourite</th>\n",
       "      <th>age_range</th>\n",
       "      <th>gender</th>\n",
       "    </tr>\n",
       "  </thead>\n",
       "  <tbody>\n",
       "    <tr>\n",
       "      <th>0</th>\n",
       "      <td>1</td>\n",
       "      <td>112203</td>\n",
       "      <td>1252</td>\n",
       "      <td>4026</td>\n",
       "      <td>1469</td>\n",
       "      <td>1</td>\n",
       "      <td>0</td>\n",
       "      <td>3.0</td>\n",
       "      <td>1.0</td>\n",
       "    </tr>\n",
       "    <tr>\n",
       "      <th>1</th>\n",
       "      <td>1</td>\n",
       "      <td>181459</td>\n",
       "      <td>276</td>\n",
       "      <td>2245</td>\n",
       "      <td>4750</td>\n",
       "      <td>0</td>\n",
       "      <td>0</td>\n",
       "      <td>3.0</td>\n",
       "      <td>1.0</td>\n",
       "    </tr>\n",
       "    <tr>\n",
       "      <th>2</th>\n",
       "      <td>1</td>\n",
       "      <td>411984</td>\n",
       "      <td>1252</td>\n",
       "      <td>4177</td>\n",
       "      <td>1960</td>\n",
       "      <td>0</td>\n",
       "      <td>0</td>\n",
       "      <td>3.0</td>\n",
       "      <td>1.0</td>\n",
       "    </tr>\n",
       "    <tr>\n",
       "      <th>3</th>\n",
       "      <td>1</td>\n",
       "      <td>452339</td>\n",
       "      <td>389</td>\n",
       "      <td>4335</td>\n",
       "      <td>649</td>\n",
       "      <td>0</td>\n",
       "      <td>0</td>\n",
       "      <td>3.0</td>\n",
       "      <td>1.0</td>\n",
       "    </tr>\n",
       "    <tr>\n",
       "      <th>4</th>\n",
       "      <td>1</td>\n",
       "      <td>452837</td>\n",
       "      <td>276</td>\n",
       "      <td>2245</td>\n",
       "      <td>4750</td>\n",
       "      <td>0</td>\n",
       "      <td>0</td>\n",
       "      <td>3.0</td>\n",
       "      <td>1.0</td>\n",
       "    </tr>\n",
       "    <tr>\n",
       "      <th>...</th>\n",
       "      <td>...</td>\n",
       "      <td>...</td>\n",
       "      <td>...</td>\n",
       "      <td>...</td>\n",
       "      <td>...</td>\n",
       "      <td>...</td>\n",
       "      <td>...</td>\n",
       "      <td>...</td>\n",
       "      <td>...</td>\n",
       "    </tr>\n",
       "    <tr>\n",
       "      <th>32010134</th>\n",
       "      <td>424170</td>\n",
       "      <td>678194</td>\n",
       "      <td>1397</td>\n",
       "      <td>4963</td>\n",
       "      <td>1991</td>\n",
       "      <td>0</td>\n",
       "      <td>0</td>\n",
       "      <td>0.0</td>\n",
       "      <td>1.0</td>\n",
       "    </tr>\n",
       "    <tr>\n",
       "      <th>32010135</th>\n",
       "      <td>424170</td>\n",
       "      <td>701110</td>\n",
       "      <td>602</td>\n",
       "      <td>525</td>\n",
       "      <td>5444</td>\n",
       "      <td>0</td>\n",
       "      <td>0</td>\n",
       "      <td>0.0</td>\n",
       "      <td>1.0</td>\n",
       "    </tr>\n",
       "    <tr>\n",
       "      <th>32010136</th>\n",
       "      <td>424170</td>\n",
       "      <td>795753</td>\n",
       "      <td>656</td>\n",
       "      <td>4268</td>\n",
       "      <td>1642</td>\n",
       "      <td>1</td>\n",
       "      <td>0</td>\n",
       "      <td>0.0</td>\n",
       "      <td>1.0</td>\n",
       "    </tr>\n",
       "    <tr>\n",
       "      <th>32010137</th>\n",
       "      <td>424170</td>\n",
       "      <td>802762</td>\n",
       "      <td>602</td>\n",
       "      <td>3736</td>\n",
       "      <td>3125</td>\n",
       "      <td>0</td>\n",
       "      <td>0</td>\n",
       "      <td>0.0</td>\n",
       "      <td>1.0</td>\n",
       "    </tr>\n",
       "    <tr>\n",
       "      <th>32010138</th>\n",
       "      <td>424170</td>\n",
       "      <td>907978</td>\n",
       "      <td>656</td>\n",
       "      <td>3469</td>\n",
       "      <td>3307</td>\n",
       "      <td>0</td>\n",
       "      <td>0</td>\n",
       "      <td>0.0</td>\n",
       "      <td>1.0</td>\n",
       "    </tr>\n",
       "  </tbody>\n",
       "</table>\n",
       "<p>31764883 rows × 9 columns</p>\n",
       "</div>"
      ]
     },
     "execution_count": 23,
     "metadata": {},
     "output_type": "execute_result"
    }
   ],
   "execution_count": 23
  },
  {
   "cell_type": "code",
   "metadata": {
    "ExecuteTime": {
     "end_time": "2024-11-22T05:51:53.960097Z",
     "start_time": "2024-11-22T05:51:53.950099Z"
    }
   },
   "source": [
    "def filte(df: pd.DataFrame, field_name, target_field='purchase', thresh=5):\n",
    "    items = set()\n",
    "    df = df.groupby(by=field_name, as_index=False)[target_field].agg(sum)\n",
    "    for k, v in df.values:\n",
    "        if v < thresh:\n",
    "            items.add(k)\n",
    "\n",
    "    return items"
   ],
   "outputs": [],
   "execution_count": 24
  },
  {
   "cell_type": "code",
   "metadata": {
    "ExecuteTime": {
     "end_time": "2024-11-22T05:51:57.249097Z",
     "start_time": "2024-11-22T05:51:53.968098Z"
    }
   },
   "source": [
    "ban_users = filte(data_df, 'user_id', thresh=10)\n",
    "ban_items = filte(data_df, 'item_id', thresh=10)"
   ],
   "outputs": [],
   "execution_count": 25
  },
  {
   "cell_type": "code",
   "metadata": {
    "ExecuteTime": {
     "end_time": "2024-11-22T05:52:02.144097Z",
     "start_time": "2024-11-22T05:51:57.313099Z"
    }
   },
   "source": [
    "drop_user = data_df['user_id'].isin(ban_users)\n",
    "data_df.drop(data_df.index[drop_user], inplace=True)"
   ],
   "outputs": [],
   "execution_count": 26
  },
  {
   "cell_type": "code",
   "metadata": {
    "ExecuteTime": {
     "end_time": "2024-11-22T05:52:05.428098Z",
     "start_time": "2024-11-22T05:52:02.192100Z"
    }
   },
   "source": [
    "drop_item = data_df['item_id'].isin(ban_items)\n",
    "data_df.drop(data_df.index[drop_item], inplace=True)"
   ],
   "outputs": [],
   "execution_count": 27
  },
  {
   "cell_type": "code",
   "metadata": {
    "ExecuteTime": {
     "end_time": "2024-11-22T05:52:05.444097Z",
     "start_time": "2024-11-22T05:52:05.432098Z"
    }
   },
   "source": [
    "fields = {\n",
    "    'user_id': 'user_id:token',\n",
    "    'item_id': 'item_id:token',\n",
    "    'cat_id': 'cat_id:token',\n",
    "    'seller_id': 'seller_id:token',\n",
    "    'brand_id': 'brand_id:token',\n",
    "    'age_range': 'age_range:token',\n",
    "    'gender': 'gender:token',\n",
    "    'purchase': 'purchase:label',\n",
    "    'favourite': 'favourite:label'\n",
    "}\n",
    "data_df.rename(columns=fields, inplace=True)"
   ],
   "outputs": [],
   "execution_count": 28
  },
  {
   "cell_type": "code",
   "metadata": {
    "ExecuteTime": {
     "end_time": "2024-11-22T05:52:08.398097Z",
     "start_time": "2024-11-22T05:52:05.493098Z"
    }
   },
   "source": [
    "from sklearn.preprocessing import LabelEncoder\n",
    "from sklearn.model_selection import train_test_split\n",
    "lbe = LabelEncoder()\n",
    "data_df[\"user_id:token\"] = lbe.fit_transform(data_df[\"user_id:token\"]) + 1\n",
    "data_df[\"item_id:token\"] = lbe.fit_transform(data_df[\"item_id:token\"]) + 1\n",
    "data_df[\"cat_id:token\"] = lbe.fit_transform(data_df[\"cat_id:token\"]) + 1\n",
    "data_df[\"seller_id:token\"] = lbe.fit_transform(data_df[\"seller_id:token\"]) + 1\n",
    "data_df[\"brand_id:token\"] = lbe.fit_transform(data_df[\"brand_id:token\"]) + 1"
   ],
   "outputs": [],
   "execution_count": 29
  },
  {
   "cell_type": "code",
   "metadata": {
    "ExecuteTime": {
     "end_time": "2024-11-22T05:52:22.362097Z",
     "start_time": "2024-11-22T05:52:08.462098Z"
    }
   },
   "source": [
    "df_train, df_val = train_test_split(data_df, test_size=0.2)\n",
    "df_val, df_test = train_test_split(df_val, test_size=0.5)\n",
    "\n",
    "df_train.to_csv(\"ijcai15_train.csv\", index=False)\n",
    "df_val.to_csv(\"ijcai15_val.csv\", index=False)\n",
    "df_test.to_csv(\"ijcai15_test.csv\", index=False)"
   ],
   "outputs": [],
   "execution_count": 30
  },
  {
   "cell_type": "code",
   "metadata": {
    "ExecuteTime": {
     "end_time": "2024-11-22T05:52:34.965097Z",
     "start_time": "2024-11-22T05:52:22.411098Z"
    }
   },
   "source": [
    "data_df.to_csv('ijcai_15.inter', index=False)"
   ],
   "outputs": [],
   "execution_count": 31
  }
 ],
 "metadata": {
  "interpreter": {
   "hash": "a890bbb692c9c7f124f7f8b0b4c2c1335b6093ace8c9ea946abc46d40c552989"
  },
  "kernelspec": {
   "display_name": "Python [conda env:.conda-torch_shilong_new] *",
   "language": "python",
   "name": "conda-env-.conda-torch_shilong_new-py"
  },
  "language_info": {
   "codemirror_mode": {
    "name": "ipython",
    "version": 3
   },
   "file_extension": ".py",
   "mimetype": "text/x-python",
   "name": "python",
   "nbconvert_exporter": "python",
   "pygments_lexer": "ipython3",
   "version": "3.8.13"
  },
  "orig_nbformat": 4
 },
 "nbformat": 4,
 "nbformat_minor": 2
}
