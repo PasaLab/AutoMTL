{
 "cells": [
  {
   "cell_type": "code",
   "execution_count": null,
   "metadata": {},
   "outputs": [],
   "source": [
    "import pandas as pd"
   ]
  },
  {
   "cell_type": "code",
   "execution_count": null,
   "metadata": {},
   "outputs": [],
   "source": [
    "log_path = 'data_format1/user_log_format1.csv'\n",
    "info_path = 'data_format1/user_info_format1.csv'"
   ]
  },
  {
   "cell_type": "code",
   "execution_count": null,
   "metadata": {},
   "outputs": [],
   "source": [
    "log_df = pd.read_csv(log_path)"
   ]
  },
  {
   "cell_type": "code",
   "execution_count": null,
   "metadata": {},
   "outputs": [],
   "source": [
    "log_df.dropna(inplace=True)\n",
    "log_df['brand_id'] = log_df['brand_id'].astype('int')\n",
    "log_df = log_df.groupby(by=['user_id', 'item_id', 'cat_id', 'seller_id', 'brand_id'], as_index=False)['action_type'].agg(list)"
   ]
  },
  {
   "cell_type": "code",
   "execution_count": null,
   "metadata": {},
   "outputs": [],
   "source": [
    "log_df['purchase'] = log_df['action_type'].map(lambda x: int(2 in x))\n",
    "log_df['favourite'] = log_df['action_type'].map(lambda x: int(3 in x))\n",
    "log_df.drop('action_type', axis=1, inplace=True)"
   ]
  },
  {
   "cell_type": "code",
   "execution_count": null,
   "metadata": {},
   "outputs": [],
   "source": [
    "user_df = pd.read_csv(info_path)\n",
    "user_df.dropna(inplace=True)\n",
    "user_df['age_range'] = user_df['age_range'].astype('int')\n",
    "user_df['gender'] = user_df['gender'].astype('int')"
   ]
  },
  {
   "cell_type": "code",
   "execution_count": null,
   "metadata": {},
   "outputs": [],
   "source": [
    "data_df = pd.merge(log_df, user_df, how='left', on='user_id')"
   ]
  },
  {
   "cell_type": "code",
   "execution_count": null,
   "metadata": {},
   "outputs": [],
   "source": [
    "data_df.dropna(inplace=True)"
   ]
  },
  {
   "cell_type": "code",
   "execution_count": null,
   "metadata": {},
   "outputs": [],
   "source": [
    "data_df"
   ]
  },
  {
   "cell_type": "code",
   "execution_count": null,
   "metadata": {},
   "outputs": [],
   "source": [
    "def filte(df: pd.DataFrame, field_name, target_field='purchase', thresh=5):\n",
    "    items = set()\n",
    "    df = df.groupby(by=field_name, as_index=False)[target_field].agg(sum)\n",
    "    for k, v in df.values:\n",
    "        if v < thresh:\n",
    "            items.add(k)\n",
    "\n",
    "    return items"
   ]
  },
  {
   "cell_type": "code",
   "execution_count": null,
   "metadata": {},
   "outputs": [],
   "source": [
    "ban_users = filte(data_df, 'user_id', thresh=10)\n",
    "ban_items = filte(data_df, 'item_id', thresh=10)"
   ]
  },
  {
   "cell_type": "code",
   "execution_count": null,
   "metadata": {},
   "outputs": [],
   "source": [
    "drop_user = data_df['user_id'].isin(ban_users)\n",
    "data_df.drop(data_df.index[drop_user], inplace=True)"
   ]
  },
  {
   "cell_type": "code",
   "execution_count": null,
   "metadata": {},
   "outputs": [],
   "source": [
    "drop_item = data_df['item_id'].isin(ban_items)\n",
    "data_df.drop(data_df.index[drop_item], inplace=True)"
   ]
  },
  {
   "cell_type": "code",
   "execution_count": null,
   "metadata": {},
   "outputs": [],
   "source": [
    "fields = {\n",
    "    'user_id': 'user_id:token',\n",
    "    'item_id': 'item_id:token',\n",
    "    'cat_id': 'cat_id:token',\n",
    "    'seller_id': 'seller_id:token',\n",
    "    'brand_id': 'brand_id:token',\n",
    "    'age_range': 'age_range:token',\n",
    "    'gender': 'gender:token',\n",
    "    'purchase': 'purchase:label',\n",
    "    'favourite': 'favourite:label'\n",
    "}\n",
    "data_df.rename(columns=fields, inplace=True)"
   ]
  },
  {
   "cell_type": "code",
   "execution_count": null,
   "metadata": {},
   "outputs": [],
   "source": [
    "from sklearn.preprocessing import LabelEncoder\n",
    "from sklearn.model_selection import train_test_split\n",
    "lbe = LabelEncoder()\n",
    "data_df[\"user_id:token\"] = lbe.fit_transform(data_df[\"user_id:token\"]) + 1\n",
    "data_df[\"item_id:token\"] = lbe.fit_transform(data_df[\"item_id:token\"]) + 1\n",
    "data_df[\"cat_id:token\"] = lbe.fit_transform(data_df[\"cat_id:token\"]) + 1\n",
    "data_df[\"seller_id:token\"] = lbe.fit_transform(data_df[\"seller_id:token\"]) + 1\n",
    "data_df[\"brand_id:token\"] = lbe.fit_transform(data_df[\"brand_id:token\"]) + 1"
   ]
  },
  {
   "cell_type": "code",
   "execution_count": null,
   "metadata": {},
   "outputs": [],
   "source": [
    "df_train, df_val = train_test_split(data_df, test_size=0.2)\n",
    "df_val, df_test = train_test_split(df_val, test_size=0.5)\n",
    "\n",
    "df_train.to_csv(\"ijcai15_train.csv\", index=False)\n",
    "df_val.to_csv(\"ijcai15_val.csv\", index=False)\n",
    "df_test.to_csv(\"ijcai15_test.csv\", index=False)"
   ]
  },
  {
   "cell_type": "code",
   "execution_count": null,
   "metadata": {},
   "outputs": [],
   "source": [
    "data_df.to_csv('ijcai_15.inter', index=False)"
   ]
  }
 ],
 "metadata": {
  "interpreter": {
   "hash": "a890bbb692c9c7f124f7f8b0b4c2c1335b6093ace8c9ea946abc46d40c552989"
  },
  "kernelspec": {
   "display_name": "Python 3.8.5 ('workspace')",
   "language": "python",
   "name": "python3"
  },
  "language_info": {
   "codemirror_mode": {
    "name": "ipython",
    "version": 3
   },
   "file_extension": ".py",
   "mimetype": "text/x-python",
   "name": "python",
   "nbconvert_exporter": "python",
   "pygments_lexer": "ipython3",
   "version": "3.8.13"
  },
  "orig_nbformat": 4
 },
 "nbformat": 4,
 "nbformat_minor": 2
}
